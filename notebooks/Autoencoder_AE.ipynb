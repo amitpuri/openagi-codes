{
  "nbformat": 4,
  "nbformat_minor": 0,
  "metadata": {
    "colab": {
      "provenance": [],
      "authorship_tag": "ABX9TyNRYFKnk0HJ6aPb1YVwnNZn",
      "include_colab_link": true
    },
    "kernelspec": {
      "name": "python3",
      "display_name": "Python 3"
    },
    "language_info": {
      "name": "python"
    }
  },
  "cells": [
    {
      "cell_type": "markdown",
      "metadata": {
        "id": "view-in-github",
        "colab_type": "text"
      },
      "source": [
        "<a href=\"https://colab.research.google.com/github/amitpuri/openagi-codes/blob/main/notebooks/Autoencoder_AE.ipynb\" target=\"_parent\"><img src=\"https://colab.research.google.com/assets/colab-badge.svg\" alt=\"Open In Colab\"/></a>"
      ]
    },
    {
      "source": [
        "!pip install keras-tuner"
      ],
      "cell_type": "code",
      "metadata": {
        "id": "YhYj5OuV9y9J"
      },
      "execution_count": null,
      "outputs": []
    },
    {
      "cell_type": "code",
      "execution_count": null,
      "metadata": {
        "colab": {
          "base_uri": "https://localhost:8080/",
          "height": 1000
        },
        "id": "4F-HI4oP2RS3",
        "outputId": "e254fdf5-faab-42a2-9958-f0cbe20fa697"
      },
      "outputs": [
        {
          "output_type": "stream",
          "name": "stdout",
          "text": [
            "Reloading Tuner from autoencoder_tuning/ae_tuning/tuner0.json\n",
            "Results summary\n",
            "Results in autoencoder_tuning/ae_tuning\n",
            "Showing 10 best trials\n",
            "Objective(name=\"val_loss\", direction=\"min\")\n",
            "\n",
            "Trial 1 summary\n",
            "Hyperparameters:\n",
            "encoding_dim: 112\n",
            "Score: 0.06701883673667908\n",
            "\n",
            "Trial 4 summary\n",
            "Hyperparameters:\n",
            "encoding_dim: 80\n",
            "Score: 0.06992778927087784\n",
            "\n",
            "Trial 3 summary\n",
            "Hyperparameters:\n",
            "encoding_dim: 64\n",
            "Score: 0.07313404977321625\n",
            "\n",
            "Trial 2 summary\n",
            "Hyperparameters:\n",
            "encoding_dim: 32\n",
            "Score: 0.09236983209848404\n",
            "\n",
            "Trial 0 summary\n",
            "Hyperparameters:\n",
            "encoding_dim: 16\n",
            "Score: 0.12679189443588257\n"
          ]
        },
        {
          "output_type": "display_data",
          "data": {
            "text/plain": [
              "<Figure size 640x480 with 1 Axes>"
            ],
            "image/png": "[encoded data removed]"
          },
          "metadata": {}
        },
        {
          "output_type": "stream",
          "name": "stderr",
          "text": [
            "/usr/local/lib/python3.11/dist-packages/keras/src/saving/saving_lib.py:757: UserWarning: Skipping variable loading for optimizer 'adam', because it has 2 variables whereas the saved optimizer has 10 variables. \n",
            "  saveable.load_own_variables(weights_store.get(inner_path))\n"
          ]
        },
        {
          "output_type": "stream",
          "name": "stdout",
          "text": [
            "Epoch 1/10\n",
            "\u001b[1m235/235\u001b[0m \u001b[32m━━━━━━━━━━━━━━━━━━━━\u001b[0m\u001b[37m\u001b[0m \u001b[1m6s\u001b[0m 20ms/step - loss: 0.0667 - val_loss: 0.0664\n",
            "Epoch 2/10\n",
            "\u001b[1m235/235\u001b[0m \u001b[32m━━━━━━━━━━━━━━━━━━━━\u001b[0m\u001b[37m\u001b[0m \u001b[1m4s\u001b[0m 14ms/step - loss: 0.0665 - val_loss: 0.0664\n",
            "Epoch 3/10\n",
            "\u001b[1m235/235\u001b[0m \u001b[32m━━━━━━━━━━━━━━━━━━━━\u001b[0m\u001b[37m\u001b[0m \u001b[1m3s\u001b[0m 14ms/step - loss: 0.0664 - val_loss: 0.0663\n",
            "Epoch 4/10\n",
            "\u001b[1m235/235\u001b[0m \u001b[32m━━━━━━━━━━━━━━━━━━━━\u001b[0m\u001b[37m\u001b[0m \u001b[1m5s\u001b[0m 20ms/step - loss: 0.0665 - val_loss: 0.0663\n",
            "Epoch 5/10\n",
            "\u001b[1m235/235\u001b[0m \u001b[32m━━━━━━━━━━━━━━━━━━━━\u001b[0m\u001b[37m\u001b[0m \u001b[1m3s\u001b[0m 14ms/step - loss: 0.0664 - val_loss: 0.0663\n",
            "Epoch 6/10\n",
            "\u001b[1m235/235\u001b[0m \u001b[32m━━━━━━━━━━━━━━━━━━━━\u001b[0m\u001b[37m\u001b[0m \u001b[1m5s\u001b[0m 14ms/step - loss: 0.0665 - val_loss: 0.0663\n",
            "Epoch 7/10\n",
            "\u001b[1m235/235\u001b[0m \u001b[32m━━━━━━━━━━━━━━━━━━━━\u001b[0m\u001b[37m\u001b[0m \u001b[1m5s\u001b[0m 19ms/step - loss: 0.0663 - val_loss: 0.0663\n",
            "Epoch 8/10\n",
            "\u001b[1m235/235\u001b[0m \u001b[32m━━━━━━━━━━━━━━━━━━━━\u001b[0m\u001b[37m\u001b[0m \u001b[1m3s\u001b[0m 14ms/step - loss: 0.0664 - val_loss: 0.0662\n",
            "Epoch 9/10\n",
            "\u001b[1m235/235\u001b[0m \u001b[32m━━━━━━━━━━━━━━━━━━━━\u001b[0m\u001b[37m\u001b[0m \u001b[1m3s\u001b[0m 14ms/step - loss: 0.0664 - val_loss: 0.0662\n",
            "Epoch 10/10\n",
            "\u001b[1m158/235\u001b[0m \u001b[32m━━━━━━━━━━━━━\u001b[0m\u001b[37m━━━━━━━\u001b[0m \u001b[1m0s\u001b[0m 13ms/step - loss: 0.0665"
          ]
        }
      ],
      "source": [
        "import matplotlib.pyplot as plt\n",
        "import numpy as np\n",
        "from tensorflow.keras.layers import Input, Dense\n",
        "from tensorflow.keras.models import Model\n",
        "from tensorflow.keras.datasets import mnist\n",
        "import keras_tuner as kt\n",
        "\n",
        "# 1. Loading and Pre‑processing the Data\n",
        "(x_train, _), (x_test, _) = mnist.load_data()\n",
        "x_train = x_train.reshape((len(x_train), 784)).astype('float32') / 255.0\n",
        "x_test = x_test.reshape((len(x_test), 784)).astype('float32') / 255.0\n",
        "\n",
        "# 2. Define a model builder function for hyperparameter tuning\n",
        "def build_autoencoder(hp):\n",
        "    input_dim = 784\n",
        "    # Hyperparameter: encoding dimension from 16 to 128 in steps of 16\n",
        "    encoding_dim = hp.Int('encoding_dim', min_value=16, max_value=128, step=16)\n",
        "    input_layer = Input(shape=(input_dim,))\n",
        "    encoded = Dense(encoding_dim, activation='relu')(input_layer)\n",
        "    decoded = Dense(input_dim, activation='sigmoid')(encoded)\n",
        "    autoencoder = Model(input_layer, decoded)\n",
        "    autoencoder.compile(optimizer='adam', loss='binary_crossentropy')\n",
        "    return autoencoder\n",
        "\n",
        "# 3. Hyperparameter Tuning using Keras Tuner\n",
        "tuner = kt.RandomSearch(\n",
        "    build_autoencoder,\n",
        "    objective='val_loss',\n",
        "    max_trials=5,\n",
        "    executions_per_trial=1,\n",
        "    directory='autoencoder_tuning',\n",
        "    project_name='ae_tuning'\n",
        ")\n",
        "tuner.search(x_train, x_train, epochs=10, validation_data=(x_test, x_test))\n",
        "tuner.results_summary()\n",
        "\n",
        "# Extract tuning results: plot encoding_dim vs. validation loss\n",
        "trials = tuner.oracle.get_best_trials(num_trials=len(tuner.oracle.trials))\n",
        "\n",
        "encoding_dims = []\n",
        "val_losses = []\n",
        "for trial in trials:\n",
        "    encoding_dims.append(trial.hyperparameters.get('encoding_dim'))\n",
        "    val_losses.append(trial.metrics.get_last_value('val_loss'))\n",
        "plt.figure()\n",
        "plt.scatter(encoding_dims, val_losses, color='purple')\n",
        "plt.xlabel(\"Encoding Dimension\")\n",
        "plt.ylabel(\"Validation Loss\")\n",
        "plt.title(\"Hyperparameter Tuning Results\")\n",
        "plt.grid(True)\n",
        "plt.show()\n",
        "\n",
        "# 4. Model Evaluation: Train the best model and plot loss curves\n",
        "best_model = tuner.get_best_models(num_models=1)[0]\n",
        "history = best_model.fit(x_train, x_train, epochs=10, batch_size=256, validation_data=(x_test, x_test))\n",
        "plt.figure()\n",
        "plt.plot(history.history['loss'], label='Train Loss')\n",
        "plt.plot(history.history['val_loss'], label='Validation Loss')\n",
        "plt.xlabel(\"Epochs\")\n",
        "plt.ylabel(\"Loss\")\n",
        "plt.title(\"Autoencoder Training Loss\")\n",
        "plt.legend()\n",
        "plt.show()\n"
      ]
    }
  ]
}